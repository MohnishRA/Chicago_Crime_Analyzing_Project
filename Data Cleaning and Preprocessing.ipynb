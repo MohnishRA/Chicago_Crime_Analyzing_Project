{
 "cells": [
  {
   "cell_type": "code",
   "execution_count": 70,
   "metadata": {},
   "outputs": [],
   "source": [
    "import pandas as pd"
   ]
  },
  {
   "cell_type": "code",
   "execution_count": null,
   "metadata": {},
   "outputs": [],
   "source": [
    "df = pd.read_excel(\"F:\\Guvi\\Chicago Crime Analyzer\\Data Cleaning\\Crime_Data.xlsx\")\n",
    "display(df)"
   ]
  },
  {
   "cell_type": "code",
   "execution_count": null,
   "metadata": {},
   "outputs": [],
   "source": [
    "block_latitude_dict = {}\n",
    "\n",
    "for index, row in df.iterrows():\n",
    "    block = row['Block']\n",
    "    latitude = row['Latitude']\n",
    "    if block not in block_latitude_dict and pd.isnull(latitude)==False:\n",
    "        block_latitude_dict[block] = latitude\n",
    "\n",
    "for index, row in df.iterrows():\n",
    "    block = row['Block']\n",
    "    latitude = row['Latitude']\n",
    "    if pd.isnull(latitude) and block in block_latitude_dict:\n",
    "        df.at[index, 'Latitude'] = block_latitude_dict[block]\n",
    "\n",
    "df.info()\n"
   ]
  },
  {
   "cell_type": "code",
   "execution_count": null,
   "metadata": {},
   "outputs": [],
   "source": [
    "block_longitude_dict = {}\n",
    "\n",
    "for index, row in df.iterrows():\n",
    "    block = row['Block']\n",
    "    longitude = row['Longitude']\n",
    "    if block not in block_longitude_dict and pd.isnull(longitude)==False:\n",
    "        block_longitude_dict[block] = longitude\n",
    "\n",
    "for index, row in df.iterrows():\n",
    "    block = row['Block']\n",
    "    longitude = row['Longitude']\n",
    "    if pd.isnull(longitude) and block in block_longitude_dict:\n",
    "        df.at[index, 'Longitude'] = block_longitude_dict[block]\n",
    "\n",
    "df.info()\n"
   ]
  },
  {
   "cell_type": "code",
   "execution_count": null,
   "metadata": {},
   "outputs": [],
   "source": [
    "block_location_dict = {}\n",
    "\n",
    "for index, row in df.iterrows():\n",
    "    block = row['Block']\n",
    "    location = row['Location']\n",
    "    if block not in block_location_dict and pd.isnull(location)==False:\n",
    "        block_location_dict[block] = location\n",
    "\n",
    "for index, row in df.iterrows():\n",
    "    block = row['Block']\n",
    "    location = row['Location']\n",
    "    if pd.isnull(location) and block in block_location_dict:\n",
    "        df.at[index, 'Location'] = block_location_dict[block]\n",
    "\n",
    "df.info()\n"
   ]
  },
  {
   "cell_type": "code",
   "execution_count": null,
   "metadata": {},
   "outputs": [],
   "source": [
    "block_X_coordinate_dict = {}\n",
    "\n",
    "for index, row in df.iterrows():\n",
    "    block = row['Block']\n",
    "    X_coordinate = row['X Coordinate']\n",
    "    if block not in block_X_coordinate_dict and pd.isnull(X_coordinate)==False:\n",
    "        block_X_coordinate_dict[block] = X_coordinate\n",
    "\n",
    "for index, row in df.iterrows():\n",
    "    block = row['Block']\n",
    "    X_coordinate = row['X Coordinate']\n",
    "    if pd.isnull(X_coordinate) and block in block_X_coordinate_dict:\n",
    "        df.at[index, 'X Coordinate'] = block_X_coordinate_dict[block]\n",
    "\n",
    "df.info()\n"
   ]
  },
  {
   "cell_type": "code",
   "execution_count": null,
   "metadata": {},
   "outputs": [],
   "source": [
    "block_Y_coordinate_dict = {}\n",
    "\n",
    "for index, row in df.iterrows():\n",
    "    block = row['Block']\n",
    "    Y_coordinate = row['Y Coordinate']\n",
    "    if block not in block_Y_coordinate_dict and pd.isnull(Y_coordinate)==False:\n",
    "        block_Y_coordinate_dict[block] = Y_coordinate\n",
    "\n",
    "for index, row in df.iterrows():\n",
    "    block = row['Block']\n",
    "    Y_coordinate = row['Y Coordinate']\n",
    "    if pd.isnull(Y_coordinate) and block in block_Y_coordinate_dict:\n",
    "        df.at[index, 'Y Coordinate'] = block_Y_coordinate_dict[block]\n",
    "\n",
    "df.info()\n"
   ]
  },
  {
   "cell_type": "code",
   "execution_count": 95,
   "metadata": {},
   "outputs": [],
   "source": [
    "df = df[~df['Latitude'].isnull()]\n",
    "df = df.drop(columns=['Ward', 'Community Area'])"
   ]
  },
  {
   "cell_type": "code",
   "execution_count": null,
   "metadata": {},
   "outputs": [],
   "source": [
    "df = df.drop(columns=['Unnamed: 0.1', 'Unnamed: 0'])"
   ]
  },
  {
   "cell_type": "code",
   "execution_count": null,
   "metadata": {},
   "outputs": [],
   "source": [
    "df['Week'] = df['Date'].dt.isocalendar().week"
   ]
  },
  {
   "cell_type": "code",
   "execution_count": null,
   "metadata": {},
   "outputs": [],
   "source": [
    "import calendar\n",
    "df['Leap Year'] = df['Year'].apply(lambda x: 'Yes' if calendar.isleap(int(x)) else 'No')"
   ]
  },
  {
   "cell_type": "code",
   "execution_count": null,
   "metadata": {},
   "outputs": [],
   "source": [
    "df['Primary Type'] = df['Primary Type'].replace(['DOMESTIC VIOLENCE','CONCEALED CARRY LICENSE VIOLATION','LIQUOR LAW VIOLATION','PUBLIC PEACE VIOLATION','WEAPONS VIOLATION'],'VIOLATIONS')\n",
    "df['Location Description'] = df['Location Description'].replace(['LAUNDRY ROOM','POOLROOM','ROOF','COACH HOUSE','SEWER','NESSTAND','POOL ROOM','FOREST PRESERVE','YARD'], 'OTHER')\n",
    "\n",
    "# There are some examples of Data Preprocessing."
   ]
  },
  {
   "cell_type": "code",
   "execution_count": null,
   "metadata": {},
   "outputs": [],
   "source": [
    "def insert_data_into_mysql(df):\n",
    "    try:\n",
    "        create_table_query=\"\"\"\n",
    "        CREATE TABLE IF NOT EXISTS chicago_crime (\n",
    "            ID INT,\n",
    "            Case_Number VARCHAR(255),\n",
    "            Date DATETIME,\n",
    "            Block VARCHAR(255),\n",
    "            IUCR VARCHAR(255),\n",
    "            Primary_Type VARCHAR(255),\n",
    "            Description VARCHAR(255),\n",
    "            Location_Description VARCHAR(255),\n",
    "            Arrest TINYINT(1),\n",
    "            Domestic TINYINT(1),\n",
    "            Beat INT,\n",
    "            District INT,\n",
    "            FBI_Code VARCHAR(255),\n",
    "            X_Coordinate INT,\n",
    "            Y_Coordinate INT,\n",
    "            Year INT,\n",
    "            Updated_On DATETIME,\n",
    "            Latitude DOUBLE,\n",
    "            Longitude DOUBLE,\n",
    "            Location VARCHAR(255),\n",
    "            Week INT,\n",
    "            Leap_Year TINYINT(1),\n",
    "        )\n",
    "        \"\"\"\n",
    "        mycursor.execute(create_table_query)\n",
    "        \n",
    "        insert_query = \"\"\"\n",
    "        INSERT INTO chicago_crime\n",
    "        (ID, Case_Number, Date, Block, IUCR, Primary_Type, Description, Location_Description,\n",
    "        Arrest, Domestic, Beat, District, FBI_Code, X_Coordinate, Y_Coordinate,\n",
    "        Year, Updated_On, Latitude, Longitude, Location, Week, Leap_Year)\n",
    "        VALUES (%s, %s, %s, %s, %s, %s, %s, %s, %s, %s, %s, %s, %s, %s, %s, %s, %s, %s, %s, %s, %s, %s)\n",
    "        \"\"\"\n",
    "        for index, row in df.iterrows():\n",
    "            mycursor.execute(insert_query, tuple(row))\n",
    "\n",
    "        mydb.commit()\n",
    "\n",
    "        print(\"Data inserted successfully into MySQL database.\")\n",
    "\n",
    "    except mysql.connector.Error as err:\n",
    "        print(f\"Error: {err}\")\n",
    "\n",
    "insert_data_into_mysql(df)"
   ]
  },
  {
   "cell_type": "code",
   "execution_count": null,
   "metadata": {},
   "outputs": [],
   "source": [
    "df.to_excel(\"chicago_crime.xlsx\")"
   ]
  }
 ],
 "metadata": {
  "kernelspec": {
   "display_name": "Python 3",
   "language": "python",
   "name": "python3"
  },
  "language_info": {
   "codemirror_mode": {
    "name": "ipython",
    "version": 3
   },
   "file_extension": ".py",
   "mimetype": "text/x-python",
   "name": "python",
   "nbconvert_exporter": "python",
   "pygments_lexer": "ipython3",
   "version": "3.13.1"
  }
 },
 "nbformat": 4,
 "nbformat_minor": 2
}
